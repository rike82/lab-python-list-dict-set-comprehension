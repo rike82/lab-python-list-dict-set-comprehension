{
 "cells": [
  {
   "cell_type": "markdown",
   "id": "25d7736c-ba17-4aff-b6bb-66eba20fbf4e",
   "metadata": {},
   "source": [
    "# Lab | List, Dict and Set Comprehension"
   ]
  },
  {
   "cell_type": "markdown",
   "id": "7dd3cbde-675a-4b81-92c3-f728846dbe06",
   "metadata": {},
   "source": [
    "## Exercise: Managing Customer Orders Optimized with Comprehension"
   ]
  },
  {
   "cell_type": "markdown",
   "id": "5d500160-2fb7-4777-b5e4-09d45ebaf328",
   "metadata": {},
   "source": [
    "In the previous exercise, you developed a program to manage customer orders and inventory. Now, let's take it a step further and incorporate comprehension into your code.\n",
    "\n",
    "Follow the steps below to complete the exercise:\n",
    "\n",
    "1. Review your code from the previous exercise and identify areas where you can apply comprehension to simplify and streamline your code. \n",
    "\n",
    "    - *Hint: Apply it to initialize inventory, updating the inventory and printing the updated inventory.*\n",
    "    \n",
    "    - For example, in initializing the inventory, we could have:\n",
    "    \n",
    "        ```python\n",
    "        def initialize_inventory(products):\n",
    "            inventory = {product: int(input(f\"Enter the quantity of {product}s available: \")) for product in products}\n",
    "            return inventory\n",
    "\n",
    "        ```\n",
    "<br>\n",
    "    \n",
    "    \n",
    "2. Modify the function get_customer_orders so it prompts the user to enter the number of customer orders and gathers the product names using a loop and user input. Use comprehension.\n",
    "\n",
    "3. Add a new function to calculate the total price of the customer order. For each product in customer_orders, prompt the user to enter the price of that product. Use comprehension to calculate the total price. Note: assume that the user can only have 1 unit of each product.\n",
    "\n",
    "4. Modify the update_inventory function to remove the product from the inventory if its quantity becomes zero after fulfilling the customer orders. Use comprehension to filter out the products with a quantity of zero from the inventory.\n",
    "\n",
    "5. Print the total price of the customer order.\n",
    "\n",
    "Your code should produce output similar to the following:\n",
    "\n",
    "```python\n",
    "Enter the quantity of t-shirts available:  5\n",
    "Enter the quantity of mugs available:  4\n",
    "Enter the quantity of hats available:  3\n",
    "Enter the quantity of books available:  2\n",
    "Enter the quantity of keychains available:  1\n",
    "Enter the number of customer orders:  2\n",
    "Enter the name of a product that a customer wants to order:  hat\n",
    "Enter the name of a product that a customer wants to order:  keychain\n",
    "\n",
    "Order Statistics:\n",
    "Total Products Ordered: 2\n",
    "Percentage of Unique Products Ordered: 40.0\n",
    "\n",
    "Updated Inventory:\n",
    "t-shirt: 5\n",
    "mug: 4\n",
    "hat: 2\n",
    "book: 2\n",
    "Enter the price of keychain:  5\n",
    "Enter the price of hat:  10\n",
    "Total Price: 15.0\n",
    "\n",
    "```\n"
   ]
  },
  {
   "cell_type": "code",
   "execution_count": 72,
   "id": "f457fb30",
   "metadata": {},
   "outputs": [],
   "source": [
    " #1\n",
    "products = [\"t-shirt\", \"mug\", \"hat\", \"book\", \"keychain\"]\n",
    "    \n",
    "def initialize_inventory(products):\n",
    "    inventory = {product: int(input(f\"Enter the quantity of {product}s available: \")) for product in products}\n",
    "    return inventory"
   ]
  },
  {
   "cell_type": "code",
   "execution_count": 73,
   "id": "d700a585",
   "metadata": {},
   "outputs": [
    {
     "name": "stdout",
     "output_type": "stream",
     "text": [
      "Enter the quantity of t-shirts available: 1\n",
      "Enter the quantity of mugs available: 1\n",
      "Enter the quantity of hats available: 1\n",
      "Enter the quantity of books available: 1\n",
      "Enter the quantity of keychains available: 1\n"
     ]
    }
   ],
   "source": [
    "inventory = initialize_inventory(products)"
   ]
  },
  {
   "cell_type": "code",
   "execution_count": 74,
   "id": "f6b5a7a2",
   "metadata": {},
   "outputs": [],
   "source": [
    "# 2 Modify the function get_customer_orders so it prompts the user to enter the number of customer orders and gathers the \n",
    "# product names using a loop and user input. \n",
    "def get_customer_orders():\n",
    "    order_count = int(input(\"Enter the number of customer orders: \"))\n",
    "    customer_order = {input(\"Enter the name of a product that a customer wants to order: \") for _ in range(order_count)}\n",
    "    return customer_order "
   ]
  },
  {
   "cell_type": "code",
   "execution_count": 75,
   "id": "05da07ed",
   "metadata": {},
   "outputs": [
    {
     "name": "stdout",
     "output_type": "stream",
     "text": [
      "Enter the number of customer orders: 2\n",
      "Enter the name of a product that a customer wants to order: mug\n",
      "Enter the name of a product that a customer wants to order: hat\n",
      "{'hat', 'mug'}\n"
     ]
    }
   ],
   "source": [
    "cust_orders = get_customer_orders()\n",
    "print(cust_orders)"
   ]
  },
  {
   "cell_type": "code",
   "execution_count": 43,
   "id": "24035e1a",
   "metadata": {},
   "outputs": [],
   "source": [
    "# 3\n",
    "# Add a new function to calculate the total price of the customer order. \n",
    "# For each product in customer_orders, prompt the user to enter the price of that product. \n",
    "# Use comprehension to calculate the total price. \n",
    "# Note: assume that the user can only have 1 unit of each product."
   ]
  },
  {
   "cell_type": "code",
   "execution_count": 76,
   "id": "4f3e7888",
   "metadata": {},
   "outputs": [],
   "source": [
    "def calculate_order_price(customer_order):\n",
    "    prices = {key: float(input(f\"Enter the price of {key}:\")) for key in customer_order }\n",
    "    # print(prices)\n",
    "    total_price = sum(price for price in prices.values())\n",
    "    return(total_price)"
   ]
  },
  {
   "cell_type": "code",
   "execution_count": 77,
   "id": "78cc25b3",
   "metadata": {},
   "outputs": [],
   "source": [
    "def print_total_price(total_price):\n",
    "    print(f\"Total Price: {total_price}€\")"
   ]
  },
  {
   "cell_type": "code",
   "execution_count": 78,
   "id": "5c3667a4",
   "metadata": {},
   "outputs": [
    {
     "name": "stdout",
     "output_type": "stream",
     "text": [
      "Enter the price of hat:3\n",
      "Enter the price of mug:4\n",
      "Total Price: 7.0€\n"
     ]
    }
   ],
   "source": [
    "total_order_price = calculate_order_price(cust_orders)\n",
    "print_total_price(total_order_price)"
   ]
  },
  {
   "cell_type": "code",
   "execution_count": 79,
   "id": "aa2e5349",
   "metadata": {},
   "outputs": [],
   "source": [
    "\"\"\"def update_inventory(customer_orders, inventory):\n",
    "    for item in customer_orders:\n",
    "        inventory[item] -= 1\n",
    "    return inventory \"\"\"\n",
    "\n",
    "def update_inventory(customer_orders, inventory):\n",
    "    updated = {item:inventory[item] - 1  if item in customer_orders and (inventory[item] - 1) > 0 else item:inventory[item] for item in invetory.item()} \n",
    "    updated_inventory = {item: (inventory[item] - 1 if item in customer_orders else inventory[item])\n",
    "        for item in inventory\n",
    "        if not (item in customer_orders and inventory[item] - 1 == 0)} \n",
    "    return updated_inventory\n",
    "#coded by chat gpt! is it possible to get a result easier???\n"
   ]
  },
  {
   "cell_type": "code",
   "execution_count": 80,
   "id": "a8620fdc",
   "metadata": {},
   "outputs": [
    {
     "name": "stdout",
     "output_type": "stream",
     "text": [
      "{'t-shirt': 1, 'book': 1, 'keychain': 1}\n"
     ]
    }
   ],
   "source": [
    "updated_inventory = update_inventory(cust_orders, inventory)\n",
    "print(updated_inventory)"
   ]
  },
  {
   "cell_type": "code",
   "execution_count": 49,
   "id": "3dd8fda2",
   "metadata": {},
   "outputs": [],
   "source": [
    "# update inventory irgendwas mit if else im comp., sodass item aus dict gelöscht wird, wenn 0"
   ]
  }
 ],
 "metadata": {
  "kernelspec": {
   "display_name": "Python 3 (ipykernel)",
   "language": "python",
   "name": "python3"
  },
  "language_info": {
   "codemirror_mode": {
    "name": "ipython",
    "version": 3
   },
   "file_extension": ".py",
   "mimetype": "text/x-python",
   "name": "python",
   "nbconvert_exporter": "python",
   "pygments_lexer": "ipython3",
   "version": "3.9.12"
  }
 },
 "nbformat": 4,
 "nbformat_minor": 5
}
